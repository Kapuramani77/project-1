{
 "cells": [
  {
   "cell_type": "code",
   "execution_count": 1,
   "metadata": {},
   "outputs": [],
   "source": [
    "import pandas as pd"
   ]
  },
  {
   "cell_type": "code",
   "execution_count": 2,
   "metadata": {},
   "outputs": [],
   "source": [
    "kez=pd.read_table('C:\\\\Users\\\\Lenovo\\\\Desktop\\\\temp.csv')"
   ]
  },
  {
   "cell_type": "code",
   "execution_count": 3,
   "metadata": {},
   "outputs": [
    {
     "data": {
      "text/html": [
       "<div>\n",
       "<style scoped>\n",
       "    .dataframe tbody tr th:only-of-type {\n",
       "        vertical-align: middle;\n",
       "    }\n",
       "\n",
       "    .dataframe tbody tr th {\n",
       "        vertical-align: top;\n",
       "    }\n",
       "\n",
       "    .dataframe thead th {\n",
       "        text-align: right;\n",
       "    }\n",
       "</style>\n",
       "<table border=\"1\" class=\"dataframe\">\n",
       "  <thead>\n",
       "    <tr style=\"text-align: right;\">\n",
       "      <th></th>\n",
       "      <th>Name,Age,Cont_no,Email_ID</th>\n",
       "    </tr>\n",
       "  </thead>\n",
       "  <tbody>\n",
       "    <tr>\n",
       "      <th>0</th>\n",
       "      <td>Keziah,18,38936743262,so@abc</td>\n",
       "    </tr>\n",
       "    <tr>\n",
       "      <th>1</th>\n",
       "      <td>Arati,17,9876543210,ratu@xyz</td>\n",
       "    </tr>\n",
       "    <tr>\n",
       "      <th>2</th>\n",
       "      <td>Vedika,20,4567890312,ned@wxy</td>\n",
       "    </tr>\n",
       "    <tr>\n",
       "      <th>3</th>\n",
       "      <td>Saroj,21,12234567,sa@uvw</td>\n",
       "    </tr>\n",
       "    <tr>\n",
       "      <th>4</th>\n",
       "      <td>Devin,19,9876543210,dev@xyz</td>\n",
       "    </tr>\n",
       "  </tbody>\n",
       "</table>\n",
       "</div>"
      ],
      "text/plain": [
       "      Name,Age,Cont_no,Email_ID\n",
       "0  Keziah,18,38936743262,so@abc\n",
       "1  Arati,17,9876543210,ratu@xyz\n",
       "2  Vedika,20,4567890312,ned@wxy\n",
       "3      Saroj,21,12234567,sa@uvw\n",
       "4   Devin,19,9876543210,dev@xyz"
      ]
     },
     "execution_count": 3,
     "metadata": {},
     "output_type": "execute_result"
    }
   ],
   "source": [
    "kez.head()"
   ]
  },
  {
   "cell_type": "code",
   "execution_count": 4,
   "metadata": {},
   "outputs": [
    {
     "name": "stdout",
     "output_type": "stream",
     "text": [
      "Enter student information in the following format (Name Age Cont_no Email-ID):Keziah,18,38936743262,so@abc\n",
      "Entered information: Keziah,18,38936743262,so@abc\n",
      "Entered split up information is: ['Keziah,18,38936743262,so@abc']\n",
      "Enter (yes/no) if you  want to enter information for another student :yes\n",
      "Enter student information in the following format (Name Age Cont_no Email-ID):Arati,17,9876543210,ratu@xyz\n",
      "Entered information: Arati,17,9876543210,ratu@xyz\n",
      "Entered split up information is: ['Arati,17,9876543210,ratu@xyz']\n",
      "Enter (yes/no) if you  want to enter information for another student :yes\n",
      "Enter student information in the following format (Name Age Cont_no Email-ID):Vedika,20,4567890312,ned@wxy\n",
      "Entered information: Vedika,20,4567890312,ned@wxy\n",
      "Entered split up information is: ['Vedika,20,4567890312,ned@wxy']\n",
      "Enter (yes/no) if you  want to enter information for another student :yes\n",
      "Enter student information in the following format (Name Age Cont_no Email-ID):Saroj,21,12234567,sa@uvw\n",
      "Entered information: Saroj,21,12234567,sa@uvw\n",
      "Entered split up information is: ['Saroj,21,12234567,sa@uvw']\n",
      "Enter (yes/no) if you  want to enter information for another student :yes\n",
      "Enter student information in the following format (Name Age Cont_no Email-ID):Devin,19,9876543210,dev@xyz\n",
      "Entered information: Devin,19,9876543210,dev@xyz\n",
      "Entered split up information is: ['Devin,19,9876543210,dev@xyz']\n",
      "Enter (yes/no) if you  want to enter information for another student :no\n"
     ]
    }
   ],
   "source": [
    "condition=True\n",
    "while(condition):\n",
    "        student_info=input(\"Enter student information in the following format (Name Age Cont_no Email-ID):\")\n",
    "        print(\"Entered information: \" + student_info)\n",
    "        \n",
    "        student_info_list=student_info.split(' ')\n",
    "        print(\"Entered split up information is: \"+ str(student_info_list))\n",
    "        \n",
    "        condition_check=input(\"Enter (yes/no) if you  want to enter information for another student :\")\n",
    "        if condition_check==\"yes\":\n",
    "            condition=True\n",
    "        elif condition_check==\"no\":\n",
    "            condition=False"
   ]
  },
  {
   "cell_type": "code",
   "execution_count": 15,
   "metadata": {},
   "outputs": [
    {
     "name": "stdout",
     "output_type": "stream",
     "text": [
      "     Name  Age      Cont_no  Email_ID\n",
      "0  Keziah   18  38936743262    so@abc\n",
      "1   Arati   17   9876543210  ratu@xyz\n",
      "2  Vedika   20   4567890312   ned@wxy\n",
      "3   Saroj   21     12234567    sa@uvw\n",
      "4   Devin   19   9876543210   dev@xyz\n"
     ]
    }
   ],
   "source": [
    "kez=pd.read_csv('C:\\\\Users\\\\Lenovo\\\\Desktop\\\\temp.csv')\n",
    "print(kez)"
   ]
  },
  {
   "cell_type": "code",
   "execution_count": 16,
   "metadata": {},
   "outputs": [
    {
     "data": {
      "text/html": [
       "<div>\n",
       "<style scoped>\n",
       "    .dataframe tbody tr th:only-of-type {\n",
       "        vertical-align: middle;\n",
       "    }\n",
       "\n",
       "    .dataframe tbody tr th {\n",
       "        vertical-align: top;\n",
       "    }\n",
       "\n",
       "    .dataframe thead th {\n",
       "        text-align: right;\n",
       "    }\n",
       "</style>\n",
       "<table border=\"1\" class=\"dataframe\">\n",
       "  <thead>\n",
       "    <tr style=\"text-align: right;\">\n",
       "      <th></th>\n",
       "      <th>Name</th>\n",
       "      <th>Age</th>\n",
       "      <th>Cont_no</th>\n",
       "      <th>Email_ID</th>\n",
       "    </tr>\n",
       "  </thead>\n",
       "  <tbody>\n",
       "    <tr>\n",
       "      <th>0</th>\n",
       "      <td>Keziah</td>\n",
       "      <td>18</td>\n",
       "      <td>38936743262</td>\n",
       "      <td>so@abc</td>\n",
       "    </tr>\n",
       "    <tr>\n",
       "      <th>1</th>\n",
       "      <td>Arati</td>\n",
       "      <td>17</td>\n",
       "      <td>9876543210</td>\n",
       "      <td>ratu@xyz</td>\n",
       "    </tr>\n",
       "    <tr>\n",
       "      <th>2</th>\n",
       "      <td>Vedika</td>\n",
       "      <td>20</td>\n",
       "      <td>4567890312</td>\n",
       "      <td>ned@wxy</td>\n",
       "    </tr>\n",
       "    <tr>\n",
       "      <th>3</th>\n",
       "      <td>Saroj</td>\n",
       "      <td>21</td>\n",
       "      <td>12234567</td>\n",
       "      <td>sa@uvw</td>\n",
       "    </tr>\n",
       "    <tr>\n",
       "      <th>4</th>\n",
       "      <td>Devin</td>\n",
       "      <td>19</td>\n",
       "      <td>9876543210</td>\n",
       "      <td>dev@xyz</td>\n",
       "    </tr>\n",
       "  </tbody>\n",
       "</table>\n",
       "</div>"
      ],
      "text/plain": [
       "     Name  Age      Cont_no  Email_ID\n",
       "0  Keziah   18  38936743262    so@abc\n",
       "1   Arati   17   9876543210  ratu@xyz\n",
       "2  Vedika   20   4567890312   ned@wxy\n",
       "3   Saroj   21     12234567    sa@uvw\n",
       "4   Devin   19   9876543210   dev@xyz"
      ]
     },
     "execution_count": 16,
     "metadata": {},
     "output_type": "execute_result"
    }
   ],
   "source": [
    "kez.head()"
   ]
  },
  {
   "cell_type": "code",
   "execution_count": null,
   "metadata": {},
   "outputs": [],
   "source": []
  }
 ],
 "metadata": {
  "kernelspec": {
   "display_name": "Python 3",
   "language": "python",
   "name": "python3"
  },
  "language_info": {
   "codemirror_mode": {
    "name": "ipython",
    "version": 3
   },
   "file_extension": ".py",
   "mimetype": "text/x-python",
   "name": "python",
   "nbconvert_exporter": "python",
   "pygments_lexer": "ipython3",
   "version": "3.7.6"
  }
 },
 "nbformat": 4,
 "nbformat_minor": 4
}
